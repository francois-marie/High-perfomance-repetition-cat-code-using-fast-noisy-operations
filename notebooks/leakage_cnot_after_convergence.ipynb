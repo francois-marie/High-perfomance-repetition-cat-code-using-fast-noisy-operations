{
 "cells": [
  {
   "cell_type": "code",
   "execution_count": 1,
   "id": "c3510c68-90aa-48aa-85ee-c1eab1d4e717",
   "metadata": {},
   "outputs": [
    {
     "data": {
      "text/plain": [
       "'37fe90dadfcc42989706c5f4b6ad633b556fcbda'"
      ]
     },
     "execution_count": 1,
     "metadata": {},
     "output_type": "execute_result"
    }
   ],
   "source": [
    "from qsim import VERSION\n",
    "\n",
    "VERSION"
   ]
  },
  {
   "cell_type": "markdown",
   "id": "78eff4fd-5b83-41bd-ab42-f5f9d00dcb6b",
   "metadata": {},
   "source": [
    "# Imports"
   ]
  },
  {
   "cell_type": "code",
   "execution_count": 2,
   "id": "4b0e7a9e-3e2c-4055-aa4c-25783850cf56",
   "metadata": {},
   "outputs": [],
   "source": [
    "%load_ext autoreload\n",
    "%autoreload 2"
   ]
  },
  {
   "cell_type": "code",
   "execution_count": 3,
   "id": "c7d3c1be-e3e6-48fe-a04b-13c3bbda4c09",
   "metadata": {},
   "outputs": [],
   "source": [
    "from experiments.leakage_cnot_after_convergence.leakage_cnot import (\n",
    "    LeakageCNOTSFB_TCNOT,\n",
    "    LeakageCNOTSFB_TCNOT_TIdle,\n",
    ")\n",
    "from qsim.utils.utils import generate_plot_params\n",
    "from qsim.utils.quantum_guidelines import plot_setup\n",
    "import matplotlib.pyplot as plt\n",
    "\n",
    "marker_list = [\"o\", \"s\", \"v\", \"^\", \"<\", \">\", \"D\", \"X\", \"P\"]\n",
    "\n",
    "generate_plot_params()\n",
    "import numpy as np"
   ]
  },
  {
   "cell_type": "markdown",
   "source": [
    "# Script"
   ],
   "metadata": {
    "collapsed": false
   }
  },
  {
   "cell_type": "markdown",
   "id": "dceb8196-aca3-41f3-a303-edb31b8d4532",
   "metadata": {},
   "source": [
    "`experiments/leakage_cnot_after_convergence/leakage_cnot.py`"
   ]
  },
  {
   "cell_type": "markdown",
   "id": "fef9e1f8-4e27-48ba-9c72-7592bcbe962a",
   "metadata": {},
   "source": [
    "# Single Simulation"
   ]
  },
  {
   "cell_type": "markdown",
   "id": "91d8059f-b48a-4a2f-80ea-3f432667bcd5",
   "metadata": {},
   "source": [
    "## `LeakageCNOTSFB_TCNOT_TIdle`"
   ]
  },
  {
   "cell_type": "code",
   "execution_count": 4,
   "id": "3b392376-b3a3-4ec9-9306-162553a95825",
   "metadata": {},
   "outputs": [],
   "source": [
    "exp = LeakageCNOTSFB_TCNOT_TIdle(\n",
    "    nbar_list=[4, 6, 8],\n",
    "    gate_time_list=[1],\n",
    ")"
   ]
  },
  {
   "cell_type": "code",
   "execution_count": 15,
   "id": "53cfeebf-497e-4635-9326-4df3469a0890",
   "metadata": {},
   "outputs": [
    {
     "name": "stdout",
     "output_type": "stream",
     "text": [
      "target leakage after idle\n",
      "1.3239677422172136e-05\n"
     ]
    }
   ],
   "source": [
    "exp.verbose = True\n",
    "exp.get_target_leakage_post_idle()"
   ]
  },
  {
   "cell_type": "code",
   "execution_count": null,
   "id": "b1af4449-f6e8-46ad-ba35-1ce8abeb6a23",
   "metadata": {},
   "outputs": [],
   "source": [
    "from qsim.basis.sfb import SFB\n",
    "from qsim.physical_gate.idle import IdleGateSFB\n",
    "\n",
    "basis = SFB(nbar=4, d=10)\n",
    "\n",
    "idle = IdleGateSFB(nbar=4, k1=0, k2=1, gate_time=1.0)\n",
    "idle.initial_state_name = \"LeakedTargetCNOT\"\n",
    "idle.truncature = 10\n",
    "idle.num_tslots_pertime = 1000\n",
    "idle.basis = basis\n",
    "# idle.get_data()"
   ]
  },
  {
   "cell_type": "markdown",
   "id": "031f71e3-5635-44c7-a1dc-bd4953b08735",
   "metadata": {},
   "source": [
    "## LeakageCNOTSFB_TCNOT"
   ]
  },
  {
   "cell_type": "code",
   "execution_count": 16,
   "id": "c3e5a03a-14ce-45b7-9b8f-5663a7eaa2f0",
   "metadata": {},
   "outputs": [
    {
     "name": "stdout",
     "output_type": "stream",
     "text": [
      "1 dissipators\n",
      "CPU times: user 5min 12s, sys: 34.4 s, total: 5min 46s\n",
      "Wall time: 2min 13s\n"
     ]
    }
   ],
   "source": [
    "%%time\n",
    "\n",
    "exp = LeakageCNOTSFB_TCNOT(\n",
    "    nbar_list=[4, 6, 8],\n",
    "    gate_time_list=[1],\n",
    ")\n",
    "exp.single_simulation(nbar=4, gate_time=1.0)"
   ]
  },
  {
   "cell_type": "code",
   "execution_count": 17,
   "id": "e2c0e339-df0b-4274-9dc0-40ae0345a037",
   "metadata": {},
   "outputs": [
    {
     "name": "stdout",
     "output_type": "stream",
     "text": [
      "target leakage after idle\n",
      "1.3239677422172136e-05\n"
     ]
    }
   ],
   "source": [
    "exp.verbose = True\n",
    "exp.get_target_leakage_post_idle()"
   ]
  },
  {
   "cell_type": "code",
   "execution_count": 3,
   "id": "db28dec0-7d83-433a-b18f-d80cff3e8826",
   "metadata": {},
   "outputs": [],
   "source": [
    "exp = LeakageCNOTSFB_TCNOT(\n",
    "    nbar_list=[4, 6, 8],\n",
    "    gate_time_list=list(np.logspace(-2, 1, 30)),\n",
    ")\n",
    "# exp.get_data()\n",
    "# print(exp.data)"
   ]
  },
  {
   "cell_type": "markdown",
   "id": "d7ffe5c1-4e4f-4bcd-a83d-46226e99d236",
   "metadata": {},
   "source": [
    "# Plotting results"
   ]
  },
  {
   "cell_type": "code",
   "execution_count": 5,
   "id": "c470ea0f-bc2c-4d26-b286-ae56fb83c6c2",
   "metadata": {},
   "outputs": [],
   "source": [
    "data_tcnot_tidle = np.load(\"data_tcnot_tidle.npy\", allow_pickle=True).item()"
   ]
  },
  {
   "cell_type": "code",
   "execution_count": 21,
   "id": "224da378-5c85-4d99-ad5b-f09b5b765288",
   "metadata": {},
   "outputs": [
    {
     "name": "stdout",
     "output_type": "stream",
     "text": [
      "(ordonnee, label)=('pIX', '$p_{\\\\mathrm{IX}}$')\n",
      "(ordonnee, label)=('leakage_pre_idle', '$p_{l_{\\\\mathrm{1}}}$')\n",
      "(ordonnee, label)=('leakage_post_idle', '$p_{l_{\\\\mathrm{2}}}$')\n",
      "(ordonnee, label)=('pIX', '$p_{\\\\mathrm{IX}}$')\n",
      "(ordonnee, label)=('leakage_pre_idle', '$p_{l_{\\\\mathrm{1}}}$')\n",
      "(ordonnee, label)=('leakage_post_idle', '$p_{l_{\\\\mathrm{2}}}$')\n",
      "(ordonnee, label)=('pIX', '$p_{\\\\mathrm{IX}}$')\n",
      "(ordonnee, label)=('leakage_pre_idle', '$p_{l_{\\\\mathrm{1}}}$')\n",
      "(ordonnee, label)=('leakage_post_idle', '$p_{l_{\\\\mathrm{2}}}$')\n"
     ]
    },
    {
     "data": {
      "image/png": "[encoded data removed]",
      "text/plain": [
       "<Figure size 483.84x169.344 with 3 Axes>"
      ]
     },
     "metadata": {},
     "output_type": "display_data"
    }
   ],
   "source": [
    "nbar_list = [4, 6, 8]\n",
    "exp = LeakageCNOTSFB_TCNOT_TIdle(\n",
    "    nbar_list=nbar_list,\n",
    "    gate_time_list=[1],\n",
    ")\n",
    "\n",
    "\n",
    "fig = plot_setup(aspect_ratio=0.35, width_ratio=0.6, wide=True)\n",
    "ax1 = fig.add_subplot(131)\n",
    "ax2 = fig.add_subplot(132, sharey=ax1)\n",
    "ax3 = fig.add_subplot(133, sharey=ax1)\n",
    "axs = [ax1, ax2, ax3]\n",
    "\n",
    "exp.data = data_tcnot_tidle\n",
    "exp.plot(axs=axs, marker_list=marker_list)\n",
    "\n",
    "for i, (ax, nbar) in enumerate(zip(axs, nbar_list)):\n",
    "    # generate_ax_params(ax=ax)\n",
    "    ax.set_title(\"\")\n",
    "    ax.set_xlim(1e-1, 10)\n",
    "    try:\n",
    "        ax.get_legend().remove()\n",
    "    except AttributeError:\n",
    "        pass\n",
    "    ax.text(\n",
    "        0.98,\n",
    "        0.86,\n",
    "        s=f\"$|\\\\alpha|^2={nbar}$\",\n",
    "        horizontalalignment=\"right\",\n",
    "        transform=ax.transAxes,\n",
    "    )\n",
    "    ax.set_ylabel(\"\")\n",
    "    if i > 0:\n",
    "        ax.yaxis.set_tick_params(labelleft=False)\n",
    "\n",
    "# fig.suptitle(\"\")\n",
    "axs[0].legend(\n",
    "    handletextpad=0.0,\n",
    "    labelspacing=0.,\n",
    "    frameon=False,\n",
    "    bbox_to_anchor=(-0.08, -0.07), loc='lower left'\n",
    ")\n",
    "plt.tight_layout(pad=0.0)\n",
    "# generate_ax_params(ax)\n",
    "plt.savefig(\"leakage_vs_bitflip_changing_idle.pdf\")\n",
    "plt.show()"
   ]
  }
 ],
 "metadata": {
  "kernelspec": {
   "display_name": "quantum",
   "language": "python",
   "name": "quantum"
  },
  "language_info": {
   "codemirror_mode": {
    "name": "ipython",
    "version": 3
   },
   "file_extension": ".py",
   "mimetype": "text/x-python",
   "name": "python",
   "nbconvert_exporter": "python",
   "pygments_lexer": "ipython3",
   "version": "3.8.7"
  }
 },
 "nbformat": 4,
 "nbformat_minor": 5
}
