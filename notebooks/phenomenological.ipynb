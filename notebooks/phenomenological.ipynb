{
 "cells": [
  {
   "cell_type": "markdown",
   "id": "a048defa-80c3-4d5f-8436-21a5f5de2c37",
   "metadata": {},
   "source": [
    "# Imports"
   ]
  },
  {
   "cell_type": "code",
   "execution_count": 1,
   "id": "29ac64a4-05fe-402e-ac95-d6628b8f92b9",
   "metadata": {},
   "outputs": [],
   "source": [
    "%load_ext autoreload\n",
    "%autoreload 2"
   ]
  },
  {
   "cell_type": "code",
   "execution_count": 2,
   "id": "8cce37f0-da33-452f-a1cb-4ad602142bb7",
   "metadata": {},
   "outputs": [
    {
     "data": {
      "text/plain": "'ecee69280659edb9a3b415d8fc6e7924cbe0694e'"
     },
     "execution_count": 2,
     "metadata": {},
     "output_type": "execute_result"
    }
   ],
   "source": [
    "from qsim._version import VERSION\n",
    "\n",
    "VERSION"
   ]
  },
  {
   "cell_type": "code",
   "execution_count": 19,
   "id": "80dcb41c-742c-4f3a-bf04-6ccc3742d5ee",
   "metadata": {},
   "outputs": [],
   "source": [
    "from qsim.utils.utils import generate_plot_params\n",
    "\n",
    "generate_plot_params()\n",
    "from qsim.helpers import *\n",
    "from qsim.utils.logical_fit import (\n",
    "    FirstOrder,\n",
    "    FitAllAtOnce,\n",
    ")\n",
    "from qsim.utils.quantum_guidelines import global_setup, plot_setup\n",
    "global_setup()\n",
    "from qsim.utils.utils import generate_ax_params\n",
    "\n",
    "from qsim.logical_gate.phenomenological import *\n",
    "\n",
    "import pandas as pd\n",
    "import matplotlib.pyplot as plt\n",
    "import numpy as np\n"
   ]
  },
  {
   "cell_type": "code",
   "execution_count": 4,
   "outputs": [],
   "source": [
    "num_traj = 40_000\n",
    "p = 1e-1\n",
    "q = 2.001e-1\n",
    "distance = 3\n",
    "num_neighbours = None\n",
    "logic_fail_max = 1_000"
   ],
   "metadata": {
    "collapsed": false
   }
  },
  {
   "cell_type": "markdown",
   "id": "d8cde408-e7f7-4f9a-8758-c79b74bdcee3",
   "metadata": {},
   "source": [
    "# Single instance\n",
    "## check matrix"
   ]
  },
  {
   "cell_type": "code",
   "execution_count": 5,
   "id": "62dbae9a-ba1e-4a1a-b431-52e0ed373436",
   "metadata": {},
   "outputs": [
    {
     "name": "stdout",
     "output_type": "stream",
     "text": [
      "LGate : CheckMatrixPhenomenological \n",
      "\t Distance : 3 \n",
      "\t Physical Gates : \n",
      " \n",
      "\tnum_rounds: 4 \n",
      "\t Repetition : 4 \n",
      "\t Max traj : 10000000 \n",
      "\t Max Logic Fails : 1000 \n",
      "\n",
      "(d, p, q, r): (3, 0.1, 0.2001, 4)\n",
      "p=0.1499250374812594 + /- 0.008567593445764313\n",
      "experimental infidelity proba: 0.150 +/- 0.009\n"
     ]
    }
   ],
   "source": [
    "pheno = CheckMatrixPhenomenological(\n",
    "    distance=distance, p=p, q=q, verbose=False, logic_fail_max=logic_fail_max\n",
    ")\n",
    "print(pheno)\n",
    "pheno.simulate()\n",
    "\n",
    "p_exp = pheno._get_results()[\"state\"][\"outcome\"][\"Z\"]\n",
    "num_traje = pheno._get_results()[\"state\"][\"num_trajectories\"][\"Z\"]\n",
    "print(\n",
    "    f\"experimental infidelity proba: {1-p_exp:.3f} +/-\"\n",
    "    f\" {error_bar(num_traje, p_exp):.3f}\"\n",
    ")"
   ]
  },
  {
   "cell_type": "code",
   "execution_count": 5,
   "metadata": {
    "collapsed": false
   },
   "outputs": [],
   "source": []
  },
  {
   "cell_type": "code",
   "execution_count": 5,
   "id": "030a31bf-3185-43df-aa82-4e50280f861f",
   "metadata": {},
   "outputs": [],
   "source": []
  },
  {
   "cell_type": "markdown",
   "id": "0248650a-2692-4335-a8d8-9e2241718148",
   "metadata": {},
   "source": [
    "# Threshold curve "
   ]
  },
  {
   "cell_type": "markdown",
   "id": "72b60e44-a3d8-421a-a864-33c00db3870a",
   "metadata": {},
   "source": [
    "## single fit"
   ]
  },
  {
   "cell_type": "code",
   "execution_count": 6,
   "id": "df317711-ee53-4382-a490-200d17159eeb",
   "metadata": {},
   "outputs": [],
   "source": [
    "distance_l = [i for i in range(3, 12, 2)] + [25, 29, 33]\n",
    "old_p_l = np.logspace(-3, np.log10(4.9e-1), 41)\n",
    "p_l = np.concatenate((np.logspace(-5, -3, 31), old_p_l))[::-1]\n",
    "q_l = old_p_l[15:][::-1]\n",
    "q_l[3]\n",
    "distance = 3\n",
    "num_rounds = distance + 1"
   ]
  },
  {
   "cell_type": "code",
   "execution_count": 30,
   "id": "c3a0a1f8-d4a4-408e-8e70-ba9f8abd0365",
   "metadata": {},
   "outputs": [],
   "source": [
    "def gen_plotting_res(q: float):\n",
    "    plotting_res = {}\n",
    "    for distance in distance_l:\n",
    "        for p in p_l:\n",
    "            # for q in p_l:\n",
    "            plotting_res[(p, q, distance, distance + 1)] = {\n",
    "                \"pL\": 0.0,\n",
    "                \"N\": 0,\n",
    "                \"err\": 0,\n",
    "            }\n",
    "    return plotting_res\n",
    "\n",
    "\n",
    "def verify_keys(plotting_res, q):\n",
    "    for distance in distance_l:\n",
    "        for p in p_l:\n",
    "            try:\n",
    "                assert (p, q, distance, distance + 1) in plotting_res.keys()\n",
    "            except:\n",
    "                print((p, q, distance, distance + 1))\n",
    "\n",
    "\n",
    "def update_plotting_res_from_lgate(plotting_res: dict, q: float, PhenoGate):\n",
    "    res = search_simulation(\n",
    "        PhenoGate,\n",
    "        # distance = param['distance'],\n",
    "        # p=param['p'],\n",
    "        q=q,\n",
    "        # num_rounds = int(param['distance'] * np.log(param['p']) / np.log(param['q']))\n",
    "        # num_rounds = param['distance']\n",
    "    )\n",
    "    for single_res in res:\n",
    "        distance_res = single_res[\"distance\"]\n",
    "        num_rounds_res = single_res[\"num_rounds\"]\n",
    "        p_res = single_res[\"p\"]\n",
    "        q_res = single_res[\"q\"]\n",
    "        if (\n",
    "            num_rounds_res == distance_res + 1\n",
    "            and p_res in p_l\n",
    "            and q_res == q\n",
    "            and distance_res in distance_l\n",
    "        ):\n",
    "            p_exp = single_res[\"state\"][\"outcome\"][\"Z\"]\n",
    "            num_traje = single_res[\"state\"][\"num_trajectories\"][\"Z\"]\n",
    "\n",
    "            plotting_res[(p_res, q_res, distance_res, num_rounds_res)][\n",
    "                \"pL\"\n",
    "            ] = p_exp\n",
    "            plotting_res[(p_res, q_res, distance_res, num_rounds_res)][\n",
    "                \"N\"\n",
    "            ] = num_traje\n",
    "            plotting_res[(p_res, q_res, distance_res, num_rounds_res)][\n",
    "                \"err\"\n",
    "            ] = error_bar(num_traje, p_exp)\n",
    "    return plotting_res\n",
    "\n",
    "\n",
    "def plot_plotting_res(plotting_res: dict, q: float):\n",
    "    plotting_res_cleaned = remove_null_values(plotting_res)\n",
    "    fig, ax = plt.subplots(1, 1, figsize=(10, 7))\n",
    "    for d in distance_l:\n",
    "        x, y, yerr = [], [], []\n",
    "        for p in p_l:\n",
    "            if (p, q, d, d + 1) in plotting_res_cleaned.keys():\n",
    "                pL = 1 - plotting_res_cleaned[(p, q, d, d + 1)][\"pL\"]\n",
    "                err = plotting_res_cleaned[(p, q, d, d + 1)][\"err\"]\n",
    "                if err / pL < 0.3:\n",
    "                    x.append(p)\n",
    "                    y.append(pL)\n",
    "                    yerr.append(err)\n",
    "        ax.errorbar(\n",
    "            x,\n",
    "            y,\n",
    "            yerr=yerr,\n",
    "            label=f\"$d={d}$\",\n",
    "            marker=\"+\",\n",
    "            linestyle=\"\",\n",
    "        )\n",
    "\n",
    "    ax.axvline(x=0.1094, linestyle=\":\", label=\"$p=10.94\\%$\")\n",
    "    ax.axvline(x=0.103, linestyle=\":\", label=\"$p=10.3\\%$\", color=\"grey\")\n",
    "    ax.axvline(x=q, linestyle=\":\", label=\"$p=q$\", color=\"green\")\n",
    "\n",
    "    generate_ax_params(\n",
    "        ax,\n",
    "        xlabel=\"$p$\",\n",
    "        title=f\"Pheno $q={q:.3f}$\",\n",
    "    )\n",
    "\n",
    "\n",
    "def remove_null_values(plotting_res):\n",
    "    return {k: v for k, v in plotting_res.items() if v[\"pL\"] != 0}\n",
    "\n",
    "\n",
    "def extract_fit(plotting_res: dict, q: float, Fit: Optional[FirstOrder] = None):\n",
    "    if Fit is None:\n",
    "        Fit = FirstOrder\n",
    "    fit = Fit(\n",
    "        # max_p_L=1e-3\n",
    "    )\n",
    "    plotting_res_cleaned = remove_null_values(plotting_res)\n",
    "    for d in distance_l:\n",
    "        x, y, yerr = [], [], []\n",
    "        for p in p_l:\n",
    "            if (p, q, d, d + 1) in plotting_res_cleaned.keys():\n",
    "                pL = 1 - plotting_res_cleaned[(p, q, d, d + 1)][\"pL\"]\n",
    "                err = plotting_res_cleaned[(p, q, d, d + 1)][\"err\"]\n",
    "                N = plotting_res_cleaned[(p, q, d, d + 1)][\"N\"]\n",
    "                if pL != 0 and err != 0 and err / pL < 0.3:\n",
    "                    fit.update(p, d, pL, N)\n",
    "    fit.validity_regime()\n",
    "    # print(fit.threshold())\n",
    "    return fit"
   ]
  },
  {
   "cell_type": "code",
   "execution_count": 31,
   "metadata": {
    "collapsed": false
   },
   "outputs": [],
   "source": [
    "%matplotlib inline\n",
    "# global_setup()"
   ]
  },
  {
   "cell_type": "code",
   "execution_count": 35,
   "id": "a054e17f-5618-49a7-aeb1-a2debb53dfe6",
   "metadata": {
    "tags": []
   },
   "outputs": [
    {
     "data": {
      "text/plain": "<Figure size 386.4x386.4 with 1 Axes>",
      "image/png": "[encoded data removed]"
     },
     "metadata": {},
     "output_type": "display_data"
    }
   ],
   "source": [
    "index = 25\n",
    "plt.close('all')\n",
    "%matplotlib inline\n",
    "from qsim.utils.logical_fit import FirstOrder\n",
    "\n",
    "PhenoGate_l = [\n",
    "    CheckMatrixPhenomenological,\n",
    "    CheckMatrixPhenomenological5,\n",
    "    CheckMatrixPhenomenologicalold,\n",
    "    CheckMatrixPhenomenological7,\n",
    "    CheckMatrixPhenomenological29,\n",
    "    CheckMatrixPhenomenological33,\n",
    "]\n",
    "pth_l = []\n",
    "ptherr_l = []\n",
    "a_l = []\n",
    "c_l = []\n",
    "aerr_l = []\n",
    "cerr_l = []\n",
    "# distance_l = range(3, 8, 2)\n",
    "distance_l = [i for i in range(3, 12, 2)]  + [25, 29, 33]\n",
    "# distance_l = [i for i in range(3, 8, 2)]\n",
    "\n",
    "# for q in q_l[index:index+1]:\n",
    "for i, q in enumerate(q_l):\n",
    "    # if i in [25]:\n",
    "        plotting_res = gen_plotting_res(q=q)\n",
    "        verify_keys(plotting_res=plotting_res, q=q)\n",
    "        for PhenoGate in PhenoGate_l:\n",
    "            plotting_res = update_plotting_res_from_lgate(\n",
    "                plotting_res=plotting_res, q=q, PhenoGate=PhenoGate\n",
    "            )\n",
    "        fit = extract_fit(plotting_res=plotting_res, q=q, Fit=FitAllAtOnce)\n",
    "        fit.per_round = True\n",
    "        fit.max_p_L = 5e-4\n",
    "        fit.validity_regime()\n",
    "        # print(f\"max {max([fit.data[k]['pl'] for k in fit.data.keys()])}\")\n",
    "        # fit.plot()\n",
    "        fit.threshold()\n",
    "        # print(f\"max {max([fit.data[k]['pl'] for k in fit.data.keys()])}\")\n",
    "        if type(fit) == FitAllAtOnce:\n",
    "            c_l.append(fit.c)\n",
    "            cerr_l.append(fit.c_err)\n",
    "        # fit.get_fit_params()\n",
    "        # plot_plotting_res(plotting_res=plotting_res, q=q)\n",
    "        if i in [25]:\n",
    "            ax = fit.plot()\n",
    "            # print(f\"max {max([fit.data[k]['pl'] for k in fit.data.keys()])}\")\n",
    "            ax.set_xlim(1e-4, 1)\n",
    "            ax.set_ylim(1e-6, 1)\n",
    "\n",
    "            ax.axvline(q, label=f\"$p_{{\\\\mathrm{{meas}}}}={q:.3f}$\", linestyle=\":\", color=\"purple\")\n",
    "            ax.axvline(\n",
    "                fit.pth,\n",
    "                label=f\"$p_{{data, th}}={fit.pth:.3f}$\",\n",
    "                linestyle=\":\",\n",
    "                color=\"black\",\n",
    "            )\n",
    "            # ax.legend(\n",
    "            #     # bbox_to_anchor=(1.05, 1),\n",
    "            #     # loc=\"upper left\"\n",
    "            # )\n",
    "\n",
    "            # generate_ax_params(\n",
    "            #     ax=ax,\n",
    "            #     title=f\"$p_{{meas}}={q:.3f}$ $p_{{data, th}}={fit.pth:.3f}$\",\n",
    "            #     xscale=\"log\",\n",
    "            # )\n",
    "            ax.set_xlabel(\"$p_{\\mathrm{data}}$\")\n",
    "            suffix = '_per_round' if fit.per_round else ''\n",
    "            plt.tight_layout()\n",
    "            ax.set_title('')\n",
    "            plt.savefig(f\"pheno_{round(q, 3)}_fixed{suffix}.pdf\")\n",
    "\n",
    "\n",
    "        a_l.append(fit.a)\n",
    "        aerr_l.append(fit.a_err)\n",
    "        pth_l.append(fit.threshold())\n",
    "        ptherr_l.append(fit.pth_err)\n"
   ]
  },
  {
   "cell_type": "code",
   "execution_count": 36,
   "id": "bdf4988e",
   "metadata": {
    "collapsed": false
   },
   "outputs": [
    {
     "data": {
      "text/plain": "<Figure size 386.4x238.519 with 1 Axes>",
      "image/png": "[encoded data removed]"
     },
     "metadata": {},
     "output_type": "display_data"
    },
    {
     "data": {
      "text/plain": "<Figure size 386.4x238.519 with 1 Axes>",
      "image/png": "[encoded data removed]"
     },
     "metadata": {},
     "output_type": "display_data"
    },
    {
     "data": {
      "text/plain": "<Figure size 386.4x238.519 with 1 Axes>",
      "image/png": "[encoded data removed]"
     },
     "metadata": {},
     "output_type": "display_data"
    }
   ],
   "source": [
    "\n",
    "global_setup()\n",
    "%matplotlib inline\n",
    "index_max = 0\n",
    "\n",
    "per_round = True\n",
    "\n",
    "data_l = [\n",
    "    pth_l,\n",
    "    a_l,\n",
    "    c_l,\n",
    "]\n",
    "data_err_l = [\n",
    "    ptherr_l,\n",
    "    aerr_l,\n",
    "    cerr_l,\n",
    "]\n",
    "\n",
    "ylabel_l = [\n",
    "    \"$p_{\\mathrm{data, th}}$\",\n",
    "    \"$a$\",\n",
    "    \"$c$\",\n",
    "]\n",
    "\n",
    "suffix_l = [\n",
    "    \"pth\",\n",
    "    \"a\",\n",
    "    \"c\",\n",
    "]\n",
    "\n",
    "index_max = 6\n",
    "save=True\n",
    "\n",
    "for i, (data, data_err, ylabel, suffix) in enumerate(zip(data_l, data_err_l, ylabel_l, suffix_l)):\n",
    "    fig = plot_setup()\n",
    "    ax = fig.add_subplot()\n",
    "\n",
    "    ax.scatter(\n",
    "        q_l[index_max:], data[index_max:],\n",
    "    )\n",
    "\n",
    "    ax.errorbar(\n",
    "        q_l[index_max:], data[index_max:],\n",
    "        yerr=[1.96 * yerr  for yerr in data_err[index_max:]], # 95% confidence limits\n",
    "        linestyle=\"\",\n",
    "    )\n",
    "    ax.set_xlabel(\"$p_{\\mathrm{meas}}$\")\n",
    "    ax.set_ylabel(ylabel)\n",
    "    ax.set_xlim(0, 0.21)\n",
    "    plt.tight_layout(pad=0.3)\n",
    "    # generate_ax_params(ax)\n",
    "    if save:\n",
    "        if per_round:\n",
    "            plt.savefig(f\"Pheno_threshold_curve_per_round_{suffix}.pdf\", dpi=1000)\n",
    "        else:\n",
    "            plt.savefig(f\"Pheno_threshold_curve_{suffix}.pdf\", dpi=1000)\n",
    "    plt.show()\n",
    "\n"
   ]
  },
  {
   "cell_type": "code",
   "execution_count": 16,
   "outputs": [
    {
     "data": {
      "text/plain": "           q       pth   pth_err\n0   0.490000  0.033393  0.000534\n1   0.419702  0.033245  0.000529\n2   0.359490  0.033072  0.000533\n3   0.307915  0.034350  0.000552\n4   0.263740  0.027748  0.000163\n5   0.225903  0.032283  0.000151\n6   0.193494  0.039362  0.000185\n7   0.165734  0.047047  0.000219\n8   0.141957  0.055801  0.000254\n9   0.121591  0.065982  0.000294\n10  0.104147  0.077483  0.000338\n11  0.089206  0.086311  0.000456\n12  0.076408  0.101798  0.000316\n13  0.065446  0.112690  0.000315\n14  0.056057  0.122683  0.000355\n15  0.048015  0.136158  0.000388\n16  0.041126  0.148088  0.000437\n17  0.035226  0.161051  0.000452\n18  0.030172  0.173285  0.000502\n19  0.025844  0.180845  0.000573\n20  0.022136  0.192304  0.000554\n21  0.018960  0.200490  0.000620\n22  0.016240  0.209206  0.000617\n23  0.013910  0.221445  0.000631\n24  0.011915  0.230395  0.000657\n25  0.010205  0.237703  0.000721",
      "text/html": "<div>\n<style scoped>\n    .dataframe tbody tr th:only-of-type {\n        vertical-align: middle;\n    }\n\n    .dataframe tbody tr th {\n        vertical-align: top;\n    }\n\n    .dataframe thead th {\n        text-align: right;\n    }\n</style>\n<table border=\"1\" class=\"dataframe\">\n  <thead>\n    <tr style=\"text-align: right;\">\n      <th></th>\n      <th>q</th>\n      <th>pth</th>\n      <th>pth_err</th>\n    </tr>\n  </thead>\n  <tbody>\n    <tr>\n      <th>0</th>\n      <td>0.490000</td>\n      <td>0.033393</td>\n      <td>0.000534</td>\n    </tr>\n    <tr>\n      <th>1</th>\n      <td>0.419702</td>\n      <td>0.033245</td>\n      <td>0.000529</td>\n    </tr>\n    <tr>\n      <th>2</th>\n      <td>0.359490</td>\n      <td>0.033072</td>\n      <td>0.000533</td>\n    </tr>\n    <tr>\n      <th>3</th>\n      <td>0.307915</td>\n      <td>0.034350</td>\n      <td>0.000552</td>\n    </tr>\n    <tr>\n      <th>4</th>\n      <td>0.263740</td>\n      <td>0.027748</td>\n      <td>0.000163</td>\n    </tr>\n    <tr>\n      <th>5</th>\n      <td>0.225903</td>\n      <td>0.032283</td>\n      <td>0.000151</td>\n    </tr>\n    <tr>\n      <th>6</th>\n      <td>0.193494</td>\n      <td>0.039362</td>\n      <td>0.000185</td>\n    </tr>\n    <tr>\n      <th>7</th>\n      <td>0.165734</td>\n      <td>0.047047</td>\n      <td>0.000219</td>\n    </tr>\n    <tr>\n      <th>8</th>\n      <td>0.141957</td>\n      <td>0.055801</td>\n      <td>0.000254</td>\n    </tr>\n    <tr>\n      <th>9</th>\n      <td>0.121591</td>\n      <td>0.065982</td>\n      <td>0.000294</td>\n    </tr>\n    <tr>\n      <th>10</th>\n      <td>0.104147</td>\n      <td>0.077483</td>\n      <td>0.000338</td>\n    </tr>\n    <tr>\n      <th>11</th>\n      <td>0.089206</td>\n      <td>0.086311</td>\n      <td>0.000456</td>\n    </tr>\n    <tr>\n      <th>12</th>\n      <td>0.076408</td>\n      <td>0.101798</td>\n      <td>0.000316</td>\n    </tr>\n    <tr>\n      <th>13</th>\n      <td>0.065446</td>\n      <td>0.112690</td>\n      <td>0.000315</td>\n    </tr>\n    <tr>\n      <th>14</th>\n      <td>0.056057</td>\n      <td>0.122683</td>\n      <td>0.000355</td>\n    </tr>\n    <tr>\n      <th>15</th>\n      <td>0.048015</td>\n      <td>0.136158</td>\n      <td>0.000388</td>\n    </tr>\n    <tr>\n      <th>16</th>\n      <td>0.041126</td>\n      <td>0.148088</td>\n      <td>0.000437</td>\n    </tr>\n    <tr>\n      <th>17</th>\n      <td>0.035226</td>\n      <td>0.161051</td>\n      <td>0.000452</td>\n    </tr>\n    <tr>\n      <th>18</th>\n      <td>0.030172</td>\n      <td>0.173285</td>\n      <td>0.000502</td>\n    </tr>\n    <tr>\n      <th>19</th>\n      <td>0.025844</td>\n      <td>0.180845</td>\n      <td>0.000573</td>\n    </tr>\n    <tr>\n      <th>20</th>\n      <td>0.022136</td>\n      <td>0.192304</td>\n      <td>0.000554</td>\n    </tr>\n    <tr>\n      <th>21</th>\n      <td>0.018960</td>\n      <td>0.200490</td>\n      <td>0.000620</td>\n    </tr>\n    <tr>\n      <th>22</th>\n      <td>0.016240</td>\n      <td>0.209206</td>\n      <td>0.000617</td>\n    </tr>\n    <tr>\n      <th>23</th>\n      <td>0.013910</td>\n      <td>0.221445</td>\n      <td>0.000631</td>\n    </tr>\n    <tr>\n      <th>24</th>\n      <td>0.011915</td>\n      <td>0.230395</td>\n      <td>0.000657</td>\n    </tr>\n    <tr>\n      <th>25</th>\n      <td>0.010205</td>\n      <td>0.237703</td>\n      <td>0.000721</td>\n    </tr>\n  </tbody>\n</table>\n</div>"
     },
     "execution_count": 16,
     "metadata": {},
     "output_type": "execute_result"
    }
   ],
   "source": [
    "df = pd.DataFrame(np.array([q_l, data_l[0], data_err_l[0]]).T, columns=['q', 'pth', 'pth_err'])\n",
    "df"
   ],
   "metadata": {
    "collapsed": false
   }
  },
  {
   "cell_type": "code",
   "execution_count": 17,
   "outputs": [],
   "source": [
    "df.to_csv('pheno_threshold_curve.csv', index=False)"
   ],
   "metadata": {
    "collapsed": false
   }
  },
  {
   "cell_type": "code",
   "execution_count": 17,
   "outputs": [],
   "source": [],
   "metadata": {
    "collapsed": false
   }
  }
 ],
 "metadata": {
  "kernelspec": {
   "display_name": "Python 3.8.7 64-bit ('quantum')",
   "language": "python",
   "name": "python3"
  },
  "language_info": {
   "codemirror_mode": {
    "name": "ipython",
    "version": 3
   },
   "file_extension": ".py",
   "mimetype": "text/x-python",
   "name": "python",
   "nbconvert_exporter": "python",
   "pygments_lexer": "ipython3",
   "version": "3.8.7"
  },
  "vscode": {
   "interpreter": {
    "hash": "f4dd8958fcabe177092b9470209db09c22248ad1f9e59543e3aff80aeda87af7"
   }
  }
 },
 "nbformat": 4,
 "nbformat_minor": 5
}
