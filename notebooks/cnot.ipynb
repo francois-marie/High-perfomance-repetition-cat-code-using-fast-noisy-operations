{
 "cells": [
  {
   "cell_type": "markdown",
   "id": "a9d6d548-c312-4d96-b367-c956ca945472",
   "metadata": {},
   "source": [
    "# Imports"
   ]
  },
  {
   "cell_type": "code",
   "execution_count": 1,
   "id": "e3cf73c0-b302-49dd-a7ca-51b5960e43b7",
   "metadata": {},
   "outputs": [],
   "source": [
    "%load_ext autoreload\n",
    "%autoreload 2"
   ]
  },
  {
   "cell_type": "code",
   "execution_count": 2,
   "id": "1b8b611c-b733-4edc-b201-30a516092a43",
   "metadata": {},
   "outputs": [],
   "source": [
    "from qsim.utils.utils import *\n",
    "generate_plot_params()\n",
    "from qsim.physical_gate.cnot import *"
   ]
  },
  {
   "cell_type": "code",
   "execution_count": 3,
   "id": "30305663-fdb0-4773-8550-b86b4d3a2c93",
   "metadata": {},
   "outputs": [
    {
     "name": "stdout",
     "output_type": "stream",
     "text": [
      "Setup methods loaded\n"
     ]
    }
   ],
   "source": [
    "from qsim.utils.quantum_guidelines import *\n",
    "from qsim.utils.utils import *\n",
    "\n",
    "global_setup()\n",
    "\n",
    "%matplotlib inline"
   ]
  },
  {
   "cell_type": "markdown",
   "id": "5380105c-e6b4-4956-b750-684c578febc0",
   "metadata": {},
   "source": [
    "## Leakage during one CNOT"
   ]
  },
  {
   "cell_type": "code",
   "execution_count": 27,
   "id": "d40109b7-4fe5-44e7-bcbc-623cab53747d",
   "metadata": {},
   "outputs": [
    {
     "name": "stdout",
     "output_type": "stream",
     "text": [
      "gate_time=1.000\n"
     ]
    }
   ],
   "source": [
    "distance = 3\n",
    "nbar = 4\n",
    "k2d = 1\n",
    "k2a = 1\n",
    "k1d = 1e-3\n",
    "k1a = k1d * k2a\n",
    "gate_time = 1\n",
    "print(f\"{gate_time=:.3f}\")\n",
    "\n",
    "N_data = 10\n",
    "N_ancilla = 10\n",
    "basis = SFB(nbar=nbar, d=N_data, d_ancilla=N_ancilla)\n",
    "# N_l = range(5, 13)\n",
    "N_l = [10]"
   ]
  },
  {
   "cell_type": "code",
   "execution_count": 29,
   "id": "f3103f3b-f34b-43b4-940f-c9a1ca79eb09",
   "metadata": {},
   "outputs": [
    {
     "name": "stdout",
     "output_type": "stream",
     "text": [
      "N=7\n",
      "leakage=0.007113262029517342\n",
      "CPU times: user 1min 4s, sys: 12.5 s, total: 1min 17s\n",
      "Wall time: 9.94 s\n"
     ]
    }
   ],
   "source": [
    "%%time\n",
    "leakage_l = []\n",
    "N = 7\n",
    "\n",
    "print(f\"{N=}\")\n",
    "N_data = N\n",
    "N_ancilla = N\n",
    "basis = SFB(nbar=nbar, d=N_data, d_ancilla=N_ancilla)\n",
    "# Id0\n",
    "initial_state = tensor(\n",
    "    0.5 * (ket2dm(basis.ancilla.zero) + ket2dm(basis.ancilla.one)),\n",
    "    ket2dm(basis.data.zero),\n",
    ")\n",
    "\n",
    "# for i in range(5):\n",
    "\n",
    "cnot = CNOTSFB(\n",
    "    nbar=nbar,\n",
    "    k2=k2d,\n",
    "    k2a=k2a,\n",
    "    k1=k1d,\n",
    "    k1a=k1a,\n",
    "    gate_time=gate_time,\n",
    "    truncature=N_data,\n",
    "    N_ancilla=N_ancilla,\n",
    "    initial_state=initial_state,\n",
    "    initial_state_name=\"Id0\"\n",
    "    # kphi=1e-4,\n",
    ")\n",
    "res = cnot.simulate()\n",
    "proj_data = proj_code_space_sfb(N_data)\n",
    "leakage = 1 - np.real(\n",
    "    np.trace(cnot.rho * tensor(qeye([2, N_ancilla]), proj_data))\n",
    ")\n",
    "print(f\"{leakage=}\")\n",
    "leakage_l.append(leakage)\n",
    "# initial_state = cnot.rho"
   ]
  },
  {
   "cell_type": "code",
   "execution_count": 18,
   "id": "e2c6bf22",
   "metadata": {},
   "outputs": [],
   "source": [
    "N = 6\n",
    "nbar = 4\n",
    "k2d = 1\n",
    "k1d = 1e-3\n",
    "k2a_l = [i for i in range(1, 11)] + [15, 20]"
   ]
  },
  {
   "cell_type": "code",
   "execution_count": null,
   "id": "752f866f",
   "metadata": {
    "pycharm": {
     "is_executing": true
    }
   },
   "outputs": [],
   "source": [
    "leakage_data = []\n",
    "leakage_anc = []\n",
    "z1_l = []\n",
    "z2_l = []\n",
    "z1z2_l = []\n",
    "N_l = k2a_l\n",
    "for k2a in k2a_l:\n",
    "    print(k2a)\n",
    "    k1a = k1d * k2a\n",
    "    # gate_time = optimal_gate_time(nbar, k1d, k2d)\n",
    "    gate_time = 1 / k2a\n",
    "    print(f\"{N=}\")\n",
    "    N_data = N\n",
    "    N_ancilla = N\n",
    "    basis = SFB(nbar=nbar, d=N_data, d_ancilla=N_ancilla)\n",
    "    # +0\n",
    "    initial_state = tensor(\n",
    "        ket2dm(basis.ancilla.evencat),\n",
    "        ket2dm(basis.data.evencat),\n",
    "    )\n",
    "    P_data = proj_code_space_sfb(N=N)\n",
    "    P_Z1 = tensor(\n",
    "        ket2dm((fock(2, 0) - fock(2, 1)).unit()),\n",
    "        qeye(N),\n",
    "        ket2dm((fock(2, 0) + fock(2, 1)).unit()),\n",
    "        # qeye(2),\n",
    "        qeye(N),\n",
    "    )\n",
    "    P_Z2 = tensor(\n",
    "        ket2dm((fock(2, 0) + fock(2, 1)).unit()),\n",
    "        qeye(N),\n",
    "        ket2dm((fock(2, 0) - fock(2, 1)).unit()),\n",
    "        # qeye(2),\n",
    "        qeye(N),\n",
    "    )\n",
    "\n",
    "    P_Z1Z2 = tensor(\n",
    "        ket2dm((fock(2, 0) - fock(2, 1)).unit()),\n",
    "        qeye(N),\n",
    "        ket2dm((fock(2, 0) - fock(2, 1)).unit()),\n",
    "        # qeye(2),\n",
    "        qeye(N),\n",
    "    )\n",
    "\n",
    "    # for i in range(5):\n",
    "    cnot = CNOTSFBPhaseFlips(\n",
    "        nbar=nbar,\n",
    "        k2=k2d,\n",
    "        k2a=k2a,\n",
    "        k1=k1d,\n",
    "        k1a=k1a,\n",
    "        gate_time=gate_time,\n",
    "        truncature=N_data,\n",
    "        N_ancilla=N_ancilla,\n",
    "        initial_state=initial_state,\n",
    "        initial_state_name=\"++\"\n",
    "        # kphi=1e-4,\n",
    "    )\n",
    "    res = cnot.simulate()\n",
    "\n",
    "    ld = 1 - np.trace(np.real(P_data * cnot.rho.ptrace((2, 3))))\n",
    "    leakage_data.append(ld)\n",
    "\n",
    "    la = 1 - np.trace(np.real(P_data * cnot.rho.ptrace((0, 1))))\n",
    "    leakage_anc.append(la)\n",
    "\n",
    "    pZ1 = np.trace(np.real(P_Z1 * cnot.rho))\n",
    "    z1_l.append(pZ1)\n",
    "    pZ2 = np.trace(np.real(P_Z2 * cnot.rho))\n",
    "    z2_l.append(pZ2)\n",
    "    pZ1Z2 = np.trace(np.real(P_Z1Z2 * cnot.rho))\n",
    "    z1z2_l.append(pZ1Z2)\n",
    "    print(ld)\n",
    "    print(la)\n",
    "    print(pZ1)\n",
    "    print(pZ2)\n",
    "    print(pZ1Z2)"
   ]
  },
  {
   "cell_type": "code",
   "execution_count": 13,
   "id": "f8aa6acb",
   "metadata": {},
   "outputs": [
    {
     "name": "stderr",
     "output_type": "stream",
     "text": [
      "/var/folders/3s/nd608nl93j95yq_q9rfr02hc00m8zh/T/ipykernel_16544/1101125200.py:24: MatplotlibDeprecationWarning: The join function was deprecated in Matplotlib 3.6 and will be removed two minor releases later.\n",
      "  ax1.get_shared_x_axes().join(ax1, ax2)\n"
     ]
    },
    {
     "data": {
      "image/png": "[encoded data removed]",
      "text/plain": [
       "<Figure size 386.4x496.8 with 2 Axes>"
      ]
     },
     "metadata": {},
     "output_type": "display_data"
    }
   ],
   "source": [
    "from qsim.utils.quantum_guidelines import *\n",
    "import matplotlib.pyplot as plt\n",
    "\n",
    "props = global_setup(columns=\"twocolumn\", paper=\"a4paper\")\n",
    "%matplotlib inline\n",
    "\n",
    "plt.rcParams.update(\n",
    "    {\n",
    "        'legend.fontsize': 10,\n",
    "    }\n",
    ")\n",
    "\n",
    "fig = plot_setup(aspect_ratio=2 / 1.4 * 0.9)\n",
    "ax1 = fig.add_subplot(211)\n",
    "ax2 = fig.add_subplot(212)\n",
    "# N_l = range(2, 9)\n",
    "N_l = k2a_l\n",
    "ax2.plot(N_l, leakage_anc, 'o-', label='Ancilla')\n",
    "ax2.plot(N_l, leakage_data, 'o-', label='Data')\n",
    "\n",
    "ax1.plot(N_l, z1_l, 'o-', label='$p_{\\mathrm{Z_a}}$')\n",
    "ax1.plot(N_l, z2_l, 'o-', label='$p_{\\mathrm{Z_d}} = p_{\\mathrm{Z_aZ_d}}$')\n",
    "\n",
    "ax1.get_shared_x_axes().join(ax1, ax2)\n",
    "ax1.set_xticklabels([])\n",
    "\n",
    "ax2.set_ylim(5e-3, 1.2e-1)\n",
    "# ax2.set_xlabel(\"$\\\\kappa_{{2}}^a / \\\\kappa_{{2}}^d$\")\n",
    "ax2.set_xlabel(\"$\\\\Theta$\")\n",
    "ax2.set_ylabel(\"Leakage\")\n",
    "ax1.set_ylabel(\"Phase-Flip Error Probability\")\n",
    "# ax1.text(x=-0.15, y=1, s='a', transform=ax1.transAxes, fontweight='extra bold')\n",
    "# ax2.text(x=-0.15, y=1, s='b', transform=ax2.transAxes, fontstyle='italic')\n",
    "for ax in [ax1, ax2]:\n",
    "    ax.set_yscale('log')\n",
    "    ax.grid()\n",
    "    ax.legend(frameon=False, handletextpad=0.08, labelspacing=0.2)\n",
    "\n",
    "plt.tight_layout(pad=1)\n",
    "plt.savefig(f\"CNOT_em_vs_asym.pdf\")\n",
    "# generate_ax_params(ax)\n",
    "plt.show()"
   ]
  },
  {
   "cell_type": "code",
   "execution_count": 30,
   "id": "8dabecd9-830d-48d4-97fb-46af00f11829",
   "metadata": {},
   "outputs": [
    {
     "data": {
      "text/plain": [
       "[<matplotlib.lines.Line2D at 0x13ca120a0>]"
      ]
     },
     "execution_count": 30,
     "metadata": {},
     "output_type": "execute_result"
    },
    {
     "data": {
      "image/png": "[encoded data removed]",
      "text/plain": [
       "<Figure size 640x480 with 1 Axes>"
      ]
     },
     "metadata": {},
     "output_type": "display_data"
    }
   ],
   "source": [
    "fig = plt.figure(facecolor=\"white\")\n",
    "plt.semilogy(cnot.leakage_l)"
   ]
  },
  {
   "cell_type": "code",
   "execution_count": 31,
   "id": "f6057320-0308-4f98-9ea0-34ef54094957",
   "metadata": {},
   "outputs": [
    {
     "data": {
      "text/plain": [
       "[[2, 7], [2, 7]]"
      ]
     },
     "execution_count": 31,
     "metadata": {},
     "output_type": "execute_result"
    }
   ],
   "source": [
    "initial_state_idle = cnot.rho.ptrace((2, 3))\n",
    "initial_state_idle.dims"
   ]
  },
  {
   "cell_type": "markdown",
   "id": "1e5cfca0-f5ff-4349-8cf9-31ee856f68ab",
   "metadata": {},
   "source": [
    "### Idle gate for reconvergence"
   ]
  },
  {
   "cell_type": "code",
   "execution_count": 32,
   "id": "8b9a014b-5857-44ee-9f57-a8c588cd1723",
   "metadata": {},
   "outputs": [],
   "source": [
    "from qsim.physical_gate.idle import IdleGateSFB\n",
    "\n",
    "basis = SFB(nbar=nbar, d=N_data)\n",
    "\n",
    "idle = IdleGateSFB(\n",
    "    nbar=nbar,\n",
    "    k2=k2d,\n",
    "    k1=k1d,\n",
    "    gate_time=gate_time,\n",
    "    truncature=N_data,\n",
    "    initial_state=initial_state_idle,\n",
    "    initial_state_name=\"CNOT_Id0\"\n",
    "    # kphi=1e-4,\n",
    ")\n",
    "res_idle = idle.simulate()"
   ]
  },
  {
   "cell_type": "code",
   "execution_count": 34,
   "id": "e454dab9-08f6-46f8-bc1f-869b48ac59c4",
   "metadata": {},
   "outputs": [
    {
     "data": {
      "text/plain": [
       "[<matplotlib.lines.Line2D at 0x13ca591f0>]"
      ]
     },
     "execution_count": 34,
     "metadata": {},
     "output_type": "execute_result"
    },
    {
     "data": {
      "image/png": "[encoded data removed]",
      "text/plain": [
       "<Figure size 640x480 with 1 Axes>"
      ]
     },
     "metadata": {},
     "output_type": "display_data"
    }
   ],
   "source": [
    "fig = plt.figure(facecolor=\"white\")\n",
    "\n",
    "plt.semilogy(\n",
    "    np.ones(idle.results_mesolve.expect[1].shape)\n",
    "    - idle.results_mesolve.expect[1]\n",
    ")"
   ]
  },
  {
   "cell_type": "code",
   "execution_count": 38,
   "id": "0d7eb6eb-7f7e-4b99-a334-561cf700fb8b",
   "metadata": {},
   "outputs": [
    {
     "name": "stderr",
     "output_type": "stream",
     "text": [
      "WARNING:matplotlib.legend:No artists with labels found to put in legend.  Note that artists whose label start with an underscore are ignored when legend() is called with no argument.\n"
     ]
    },
    {
     "data": {
      "image/png": "[encoded data removed]",
      "text/plain": [
       "<Figure size 270.48x185.26 with 1 Axes>"
      ]
     },
     "metadata": {},
     "output_type": "display_data"
    }
   ],
   "source": [
    "from qsim.utils.quantum_guidelines import *\n",
    "\n",
    "import matplotlib.pyplot as plt\n",
    "\n",
    "\n",
    "props = global_setup(columns=\"twocolumn\", paper=\"a4paper\", fontsize=11)\n",
    "%matplotlib inline\n",
    "fig = plot_setup(width_ratio=0.7, aspect_ratio=1 / 1.46)\n",
    "ax = fig.add_subplot()\n",
    "\n",
    "concatenated = np.concatenate(\n",
    "    (\n",
    "        np.array(cnot.leakage_l),\n",
    "        np.ones(idle.results_mesolve.expect[1].shape)\n",
    "        - idle.results_mesolve.expect[1],\n",
    "    ),\n",
    "    axis=0,\n",
    ")\n",
    "\n",
    "x = np.linspace(0, 2, len(concatenated))\n",
    "\n",
    "ax.set_yscale(\"log\")\n",
    "ax.axvline(1, linestyle=\"--\", color=\"grey\", alpha=0.5)\n",
    "# plt.xlabel(\"$\\\\kappa_2 t$\")\n",
    "plt.xlabel(\"$t$\")\n",
    "plt.xticks([0, 1, 2], ['$0$', '$T$', '$2T$'])\n",
    "plt.ylabel(\"Data Leakage\")\n",
    "ax.legend(handletextpad=0.08, labelspacing=0.2, frameon=False)\n",
    "plt.tight_layout(pad=0.)\n",
    "# generate_ax_params(ax)\n",
    "plt.savefig(\"leakage_cnot_reconvergence.pdf\")\n",
    "plt.show()"
   ]
  },
  {
   "cell_type": "code",
   "execution_count": null,
   "outputs": [],
   "source": [],
   "metadata": {
    "collapsed": false
   }
  }
 ],
 "metadata": {
  "kernelspec": {
   "display_name": "quantum",
   "language": "python",
   "name": "quantum"
  },
  "language_info": {
   "codemirror_mode": {
    "name": "ipython",
    "version": 3
   },
   "file_extension": ".py",
   "mimetype": "text/x-python",
   "name": "python",
   "nbconvert_exporter": "python",
   "pygments_lexer": "ipython3",
   "version": "3.8.7"
  }
 },
 "nbformat": 4,
 "nbformat_minor": 5
}
